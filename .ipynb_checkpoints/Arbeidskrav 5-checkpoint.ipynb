{
 "cells": [
  {
   "cell_type": "markdown",
   "id": "4f3ffddc-eac7-4d1e-a74c-d4118158a7fa",
   "metadata": {
    "tags": []
   },
   "source": [
    "# Arbeidskrav"
   ]
  },
  {
   "cell_type": "markdown",
   "id": "2a219bb6-ac94-4604-9905-44f99d1a6ffd",
   "metadata": {},
   "source": [
    "## 15 - Likningssett"
   ]
  },
  {
   "cell_type": "code",
   "execution_count": 44,
   "id": "321878d1-c691-418e-9dd6-607150b0e197",
   "metadata": {},
   "outputs": [],
   "source": [
    "import matplotlib.pyplot as plt\n",
    "import numpy as np\n",
    "import sympy as sp\n",
    "from sympy.solvers import solve\n",
    "import math\n",
    "from sympy import *"
   ]
  },
  {
   "cell_type": "markdown",
   "id": "13a2037f-5bcf-44ae-bfc0-06e23f879b89",
   "metadata": {
    "tags": []
   },
   "source": [
    "### Oppgave 1"
   ]
  },
  {
   "cell_type": "code",
   "execution_count": 8,
   "id": "8b11aa03-572d-41a9-8e3f-3cf1c7ad24db",
   "metadata": {},
   "outputs": [
    {
     "data": {
      "text/plain": [
       "{x: -1, y: 2}"
      ]
     },
     "execution_count": 8,
     "metadata": {},
     "output_type": "execute_result"
    }
   ],
   "source": [
    "#a)\n",
    "x,y=sp.symbols(\"x y\")\n",
    "symbols=[x,y]\n",
    "equations=[\n",
    "    sp.Eq(2*x+4*y,6),\n",
    "    sp.Eq(-2*x+y,4)\n",
    "]\n",
    "solve(equations,symbols)"
   ]
  },
  {
   "cell_type": "code",
   "execution_count": 58,
   "id": "b4fca3d5-8af9-4f6f-8bda-28dce6fe7ae4",
   "metadata": {},
   "outputs": [
    {
     "data": {
      "text/plain": [
       "[(-1, -1), (2, 5)]"
      ]
     },
     "execution_count": 58,
     "metadata": {},
     "output_type": "execute_result"
    }
   ],
   "source": [
    "#b)\n",
    "x,y=sp.symbols(\"x y\")\n",
    "symbols=[x,y]\n",
    "equations=[\n",
    "    sp.Eq(2*x-y,-1),\n",
    "    sp.Eq(x**2+x-y,1)\n",
    "]\n",
    "solve(equations,symbols)"
   ]
  },
  {
   "cell_type": "markdown",
   "id": "e05c65a7-accc-418c-8f71-bf0bcc881456",
   "metadata": {},
   "source": [
    "### Oppgave 2"
   ]
  },
  {
   "cell_type": "code",
   "execution_count": 60,
   "id": "28a97951-59b2-494a-bf75-6a7aec8eea92",
   "metadata": {},
   "outputs": [
    {
     "data": {
      "text/plain": [
       "{x: 4, y: 0}"
      ]
     },
     "execution_count": 60,
     "metadata": {},
     "output_type": "execute_result"
    }
   ],
   "source": [
    "#a)\n",
    "x,y=sp.symbols(\"x y\")\n",
    "symbols=[x,y]\n",
    "equations=[\n",
    "    sp.Eq(3*x-12,-6*y),\n",
    "    sp.Eq(4*x-8*y,16)\n",
    "]\n",
    "solve(equations,symbols)"
   ]
  },
  {
   "cell_type": "code",
   "execution_count": 61,
   "id": "96bbf651-593c-4495-8c1e-e96a010f12bc",
   "metadata": {},
   "outputs": [
    {
     "data": {
      "text/plain": [
       "[(-15/2, 31/4), (2, 3)]"
      ]
     },
     "execution_count": 61,
     "metadata": {},
     "output_type": "execute_result"
    }
   ],
   "source": [
    "#b)\n",
    "x,y=sp.symbols(\"x y\")\n",
    "symbols=[x,y]\n",
    "equations=[\n",
    "    sp.Eq(x**2+4*x-3,3*y),\n",
    "    sp.Eq(2*y,8-x)\n",
    "]\n",
    "solve(equations,symbols)"
   ]
  },
  {
   "cell_type": "markdown",
   "id": "6c50d720-d136-40fc-97a7-4da26849d947",
   "metadata": {},
   "source": [
    "## 16 - Likningssett"
   ]
  },
  {
   "cell_type": "markdown",
   "id": "57fa1d69-523a-4c30-a70f-e5d13436232b",
   "metadata": {},
   "source": [
    "### Oppgave 1"
   ]
  },
  {
   "cell_type": "code",
   "execution_count": 62,
   "id": "e18f4856-1e96-4933-a905-c36c22af46f1",
   "metadata": {},
   "outputs": [
    {
     "data": {
      "text/plain": [
       "{x: 2, y: 2}"
      ]
     },
     "execution_count": 62,
     "metadata": {},
     "output_type": "execute_result"
    }
   ],
   "source": [
    "#a)\n",
    "x,y=sp.symbols(\"x y\")\n",
    "symbols=[x,y]\n",
    "equations=[\n",
    "    sp.Eq(4*x+2*y,12),\n",
    "    sp.Eq(6*x-2*y,8)\n",
    "]\n",
    "solve(equations,symbols)"
   ]
  },
  {
   "cell_type": "code",
   "execution_count": 63,
   "id": "3eeb779d-4f1e-4ab2-a283-881cd3f9b57a",
   "metadata": {},
   "outputs": [
    {
     "data": {
      "text/plain": [
       "[(0, -5), (12, 1)]"
      ]
     },
     "execution_count": 63,
     "metadata": {},
     "output_type": "execute_result"
    }
   ],
   "source": [
    "#b)\n",
    "x,y=sp.symbols(\"x y\")\n",
    "symbols=[x,y]\n",
    "equations=[\n",
    "    sp.Eq(2*x+y**2,25),\n",
    "    sp.Eq(x-2*y,10)\n",
    "]\n",
    "solve(equations,symbols)"
   ]
  },
  {
   "cell_type": "markdown",
   "id": "1e92d051-9a34-43cc-b21b-e64a693502b4",
   "metadata": {},
   "source": [
    "### Oppgave 2"
   ]
  },
  {
   "cell_type": "code",
   "execution_count": 64,
   "id": "4f47b145-b43f-4cfb-b085-89847cb4faee",
   "metadata": {},
   "outputs": [
    {
     "data": {
      "text/plain": [
       "{x: 4, y: 2}"
      ]
     },
     "execution_count": 64,
     "metadata": {},
     "output_type": "execute_result"
    }
   ],
   "source": [
    "#a)\n",
    "x,y=sp.symbols(\"x y\")\n",
    "symbols=[x,y]\n",
    "equations=[\n",
    "    sp.Eq(4*x-4*y,8),\n",
    "    sp.Eq(9*x-5*y,26)\n",
    "]\n",
    "solve(equations,symbols)"
   ]
  },
  {
   "cell_type": "code",
   "execution_count": 65,
   "id": "8b83c3b8-86f6-4f89-bd0c-b47e95f18506",
   "metadata": {},
   "outputs": [
    {
     "data": {
      "text/plain": [
       "[(-9, -2*sqrt(3)), (-9, 2*sqrt(3)), (7, -2), (7, 2)]"
      ]
     },
     "execution_count": 65,
     "metadata": {},
     "output_type": "execute_result"
    }
   ],
   "source": [
    "#b)\n",
    "x,y=sp.symbols(\"x y\")\n",
    "symbols=[x,y]\n",
    "equations=[\n",
    "    sp.Eq(x+2*y**2,15),\n",
    "    sp.Eq(x**2-4*y**2,33)\n",
    "]\n",
    "solve(equations,symbols)"
   ]
  },
  {
   "cell_type": "markdown",
   "id": "8a3fc36b-d307-468a-a682-0e97c8748af1",
   "metadata": {},
   "source": [
    "## 17 - Likningssett"
   ]
  },
  {
   "cell_type": "markdown",
   "id": "8d725883-35b8-45f7-aed6-55b6b417ffbc",
   "metadata": {},
   "source": [
    "### Oppgave 1"
   ]
  },
  {
   "cell_type": "code",
   "execution_count": 66,
   "id": "3eae5a8c-0bb1-4914-a142-c4f81c556de7",
   "metadata": {},
   "outputs": [
    {
     "data": {
      "text/plain": [
       "[(0, -4), (0, 4), (15, -1), (15, 1)]"
      ]
     },
     "execution_count": 66,
     "metadata": {},
     "output_type": "execute_result"
    }
   ],
   "source": [
    "#a)\n",
    "x,y=sp.symbols(\"x y\")\n",
    "symbols=[x,y]\n",
    "equations=[\n",
    "    sp.Eq(x*y**2-x,0),\n",
    "    sp.Eq(x+y**2,16)\n",
    "]\n",
    "solve(equations,symbols)"
   ]
  },
  {
   "cell_type": "code",
   "execution_count": 67,
   "id": "60459f4b-e7b6-4d67-8cbf-b5c600694a4d",
   "metadata": {},
   "outputs": [
    {
     "data": {
      "text/plain": [
       "[(-10, 0), (-6, -8), (-6, 8), (6, -8), (6, 8), (10, 0)]"
      ]
     },
     "execution_count": 67,
     "metadata": {},
     "output_type": "execute_result"
    }
   ],
   "source": [
    "#b)\n",
    "x,y=sp.symbols(\"x y\")\n",
    "symbols=[x,y]\n",
    "equations=[\n",
    "    sp.Eq(x**2+y**2,100),\n",
    "    sp.Eq(x**2*y-36*y,0)\n",
    "]\n",
    "solve(equations,symbols)"
   ]
  },
  {
   "cell_type": "markdown",
   "id": "6557f080-dcf1-497c-827e-8f20b0b142a0",
   "metadata": {},
   "source": [
    "### Oppgave 2"
   ]
  },
  {
   "cell_type": "code",
   "execution_count": 68,
   "id": "b7135b09-8cd9-4df9-a85b-074fdc95aa6f",
   "metadata": {},
   "outputs": [
    {
     "data": {
      "text/plain": [
       "[(-3, -7), (-3, 7), (0, -sqrt(58)), (0, sqrt(58)), (3, -7), (3, 7)]"
      ]
     },
     "execution_count": 68,
     "metadata": {},
     "output_type": "execute_result"
    }
   ],
   "source": [
    "#a)\n",
    "x,y=sp.symbols(\"x y\")\n",
    "symbols=[x,y]\n",
    "equations=[\n",
    "    sp.Eq(x*y**2-49*x,0),\n",
    "    sp.Eq(x**2+y**2,58)\n",
    "]\n",
    "solve(equations,symbols)"
   ]
  },
  {
   "cell_type": "code",
   "execution_count": 69,
   "id": "8a440ada-deef-45e0-8b49-c0b50679e8ef",
   "metadata": {},
   "outputs": [
    {
     "data": {
      "text/plain": [
       "[(-1.11803398874989, 0.0),\n",
       " (-0.500000000000000, -1.00000000000000),\n",
       " (-0.500000000000000, 1.00000000000000),\n",
       " (1.11803398874989, 0.0)]"
      ]
     },
     "execution_count": 69,
     "metadata": {},
     "output_type": "execute_result"
    }
   ],
   "source": [
    "#b)\n",
    "x,y=sp.symbols(\"x y\")\n",
    "symbols=[x,y]\n",
    "equations=[\n",
    "    sp.Eq(x**2+y**2,1.25),\n",
    "    sp.Eq(2*x*y+y,0)\n",
    "]\n",
    "solve(equations,symbols)"
   ]
  },
  {
   "cell_type": "markdown",
   "id": "f58a4959-91ba-4bd2-9028-976c0442b2cb",
   "metadata": {},
   "source": [
    "## 19 - Derivasjon"
   ]
  },
  {
   "cell_type": "markdown",
   "id": "f7222b59-e989-4427-b643-076ff5c6eb52",
   "metadata": {},
   "source": [
    "## Opggave 1"
   ]
  },
  {
   "cell_type": "code",
   "execution_count": 70,
   "id": "c903741d-7473-484b-8848-9faf5ced35a3",
   "metadata": {},
   "outputs": [
    {
     "data": {
      "text/latex": [
       "$\\displaystyle 5 x^{4}$"
      ],
      "text/plain": [
       "5*x**4"
      ]
     },
     "execution_count": 70,
     "metadata": {},
     "output_type": "execute_result"
    }
   ],
   "source": [
    "#a)\n",
    "x=sp.symbols(\"x\")\n",
    "f = x**5\n",
    "derivative_f = f.diff(x)\n",
    "derivative_f"
   ]
  },
  {
   "cell_type": "code",
   "execution_count": 71,
   "id": "9d5db2c6-6eee-4e76-a21a-8ff149744d38",
   "metadata": {},
   "outputs": [
    {
     "data": {
      "text/latex": [
       "$\\displaystyle 1$"
      ],
      "text/plain": [
       "1"
      ]
     },
     "execution_count": 71,
     "metadata": {},
     "output_type": "execute_result"
    }
   ],
   "source": [
    "#b)\n",
    "x=sp.symbols(\"x\")\n",
    "f = x+12\n",
    "derivative_f = f.diff(x)\n",
    "derivative_f"
   ]
  },
  {
   "cell_type": "code",
   "execution_count": 72,
   "id": "48e80543-0741-49ed-9de5-fdcec5dbc2e2",
   "metadata": {},
   "outputs": [
    {
     "data": {
      "text/latex": [
       "$\\displaystyle 3 x^{2} + 8 x$"
      ],
      "text/plain": [
       "3*x**2 + 8*x"
      ]
     },
     "execution_count": 72,
     "metadata": {},
     "output_type": "execute_result"
    }
   ],
   "source": [
    "#c)\n",
    "x=sp.symbols(\"x\")\n",
    "f = x**3+4*x**2\n",
    "derivative_f = f.diff(x)\n",
    "derivative_f"
   ]
  },
  {
   "cell_type": "code",
   "execution_count": 73,
   "id": "5261161e-011c-437c-ac68-c95fb733d758",
   "metadata": {},
   "outputs": [
    {
     "data": {
      "text/latex": [
       "$\\displaystyle 6 x^{2}$"
      ],
      "text/plain": [
       "6*x**2"
      ]
     },
     "execution_count": 73,
     "metadata": {},
     "output_type": "execute_result"
    }
   ],
   "source": [
    "#d)\n",
    "# skriver om sqrt(36), til 36**0.5\n",
    "x=sp.symbols(\"x\")\n",
    "f = 2*x**3+36**0.5\n",
    "derivative_f = f.diff(x)\n",
    "derivative_f"
   ]
  },
  {
   "cell_type": "code",
   "execution_count": 2,
   "id": "1b129089-bac7-4efc-bb79-2cc754db72fb",
   "metadata": {},
   "outputs": [
    {
     "data": {
      "text/latex": [
       "$\\displaystyle \\frac{0.5}{x^{0.5}}$"
      ],
      "text/plain": [
       "0.5*x**(-0.5)"
      ]
     },
     "execution_count": 2,
     "metadata": {},
     "output_type": "execute_result"
    }
   ],
   "source": [
    "#e)\n",
    "x=sp.symbols(\"x\")\n",
    "f = x**0.5+5**2\n",
    "derivative_f = f.diff(x)\n",
    "derivative_f"
   ]
  },
  {
   "cell_type": "code",
   "execution_count": 75,
   "id": "84c5d27e-62b9-4f2f-86eb-a77adc20346a",
   "metadata": {},
   "outputs": [
    {
     "data": {
      "text/latex": [
       "$\\displaystyle 3 x^{2} - \\frac{1}{x^{2}}$"
      ],
      "text/plain": [
       "3*x**2 - 1/x**2"
      ]
     },
     "execution_count": 75,
     "metadata": {},
     "output_type": "execute_result"
    }
   ],
   "source": [
    "#f)\n",
    "x=sp.symbols(\"x\")\n",
    "f = x**3+1/x\n",
    "derivative_f = f.diff(x)\n",
    "derivative_f"
   ]
  },
  {
   "cell_type": "code",
   "execution_count": 5,
   "id": "94b24590-1d51-49df-8076-0c9df98e89b8",
   "metadata": {},
   "outputs": [
    {
     "data": {
      "text/latex": [
       "$\\displaystyle 3 x^{2} - 2 x + 0.25$"
      ],
      "text/plain": [
       "3*x**2 - 2*x + 0.25"
      ]
     },
     "execution_count": 5,
     "metadata": {},
     "output_type": "execute_result"
    }
   ],
   "source": [
    "#g)\n",
    "x=sp.symbols(\"x\")\n",
    "f = x**3-x**2+1/4*x\n",
    "derivative_f = f.diff(x)\n",
    "derivative_f"
   ]
  },
  {
   "cell_type": "markdown",
   "id": "05249735-6d36-445f-9d32-d580752adb5b",
   "metadata": {},
   "source": [
    "## Oppgave 2"
   ]
  },
  {
   "cell_type": "code",
   "execution_count": 77,
   "id": "df227f5f-d00e-4a94-bf5e-79d870f7be98",
   "metadata": {},
   "outputs": [
    {
     "data": {
      "text/latex": [
       "$\\displaystyle 36 x^{5} - \\frac{1}{x^{2}}$"
      ],
      "text/plain": [
       "36*x**5 - 1/x**2"
      ]
     },
     "execution_count": 77,
     "metadata": {},
     "output_type": "execute_result"
    }
   ],
   "source": [
    "#a)\n",
    "x=sp.symbols(\"x\")\n",
    "f = 1/x+6*x**6\n",
    "derivative_f = f.diff(x)\n",
    "derivative_f"
   ]
  },
  {
   "cell_type": "code",
   "execution_count": 78,
   "id": "fc3ffad3-f67d-4ec1-b203-220ee0ce53bd",
   "metadata": {},
   "outputs": [
    {
     "data": {
      "text/latex": [
       "$\\displaystyle 1.5 x^{2} - 1$"
      ],
      "text/plain": [
       "1.5*x**2 - 1"
      ]
     },
     "execution_count": 78,
     "metadata": {},
     "output_type": "execute_result"
    }
   ],
   "source": [
    "#b)\n",
    "x=sp.symbols(\"x\")\n",
    "f = -x+1/2*x**3\n",
    "derivative_f = f.diff(x)\n",
    "derivative_f"
   ]
  },
  {
   "cell_type": "code",
   "execution_count": 79,
   "id": "c9e1dcdf-a944-4e28-8d3e-863bafd39407",
   "metadata": {},
   "outputs": [
    {
     "data": {
      "text/latex": [
       "$\\displaystyle 3 x^{2} + 4 x - 3$"
      ],
      "text/plain": [
       "3*x**2 + 4*x - 3"
      ]
     },
     "execution_count": 79,
     "metadata": {},
     "output_type": "execute_result"
    }
   ],
   "source": [
    "#c)\n",
    "# omgjør (x(x**2+2*x-3))til x**3+2*x**2-3*x\n",
    "x=sp.symbols(\"x\")\n",
    "f = x**3+2*x**2-3*x\n",
    "derivative_f = f.diff(x)\n",
    "derivative_f"
   ]
  },
  {
   "cell_type": "markdown",
   "id": "d6108f0b-7326-4e2a-9b33-04d8762c4a50",
   "metadata": {},
   "source": [
    "## 20 - Produkt og brøkregelen"
   ]
  },
  {
   "cell_type": "markdown",
   "id": "3a31c189-7c2d-48a3-9285-6479f8633ff8",
   "metadata": {},
   "source": [
    "### Oppgave 1"
   ]
  },
  {
   "cell_type": "markdown",
   "id": "8475942b-19c8-4d79-ae54-0038b6a511fc",
   "metadata": {},
   "source": [
    "###### Vet ikke hvorfor men noen av oppgavene så ville ikke python skrive det fullstendige svaret. Men hvis man sjekker det så får man riktig svar."
   ]
  },
  {
   "cell_type": "code",
   "execution_count": 9,
   "id": "477d40e6-7e4b-4cfc-9d81-90263621fe13",
   "metadata": {},
   "outputs": [
    {
     "data": {
      "text/latex": [
       "$\\displaystyle 9 x^{8}$"
      ],
      "text/plain": [
       "9*x**8"
      ]
     },
     "execution_count": 9,
     "metadata": {},
     "output_type": "execute_result"
    }
   ],
   "source": [
    "#e)\n",
    "x=sp.symbols(\"x\")\n",
    "f = (x**4)*(x**5)\n",
    "derivative_f = f.diff(x)\n",
    "derivative_f"
   ]
  },
  {
   "cell_type": "code",
   "execution_count": 13,
   "id": "ff1924bc-e6a4-46f6-b4b2-668d4ea7d59c",
   "metadata": {},
   "outputs": [
    {
     "data": {
      "text/latex": [
       "$\\displaystyle 1.5 x^{0.5}$"
      ],
      "text/plain": [
       "1.5*x**0.5"
      ]
     },
     "execution_count": 13,
     "metadata": {},
     "output_type": "execute_result"
    }
   ],
   "source": [
    "#f)\n",
    "x=sp.symbols(\"x\")\n",
    "f = (x)*(x**0.5)\n",
    "derivative_f = f.diff(x)\n",
    "derivative_f"
   ]
  },
  {
   "cell_type": "code",
   "execution_count": 89,
   "id": "f80cc3fb-950a-4b72-95dc-90015949e1a0",
   "metadata": {},
   "outputs": [
    {
     "data": {
      "text/latex": [
       "$\\displaystyle - \\frac{6}{x^{4}}$"
      ],
      "text/plain": [
       "-6/x**4"
      ]
     },
     "execution_count": 89,
     "metadata": {},
     "output_type": "execute_result"
    }
   ],
   "source": [
    "#g)\n",
    "x=sp.symbols(\"x\")\n",
    "f = 2/x**3\n",
    "derivative_f = f.diff(x)\n",
    "derivative_f"
   ]
  },
  {
   "cell_type": "code",
   "execution_count": 92,
   "id": "8c1ae6f1-a5fe-493d-a641-6ff67ccf515f",
   "metadata": {},
   "outputs": [
    {
     "data": {
      "text/latex": [
       "$\\displaystyle - \\frac{1}{x^{2}} + \\frac{6}{x^{4}}$"
      ],
      "text/plain": [
       "-1/x**2 + 6/x**4"
      ]
     },
     "execution_count": 92,
     "metadata": {},
     "output_type": "execute_result"
    }
   ],
   "source": [
    "#h)\n",
    "# Skriver om x**2-2/x**3\n",
    "x=sp.symbols(\"x\")\n",
    "f = x**-1-2*x**-3\n",
    "derivative_f = f.diff(x)\n",
    "derivative_f"
   ]
  },
  {
   "cell_type": "code",
   "execution_count": 18,
   "id": "84ae7430-9632-415d-924f-de20719ef8e8",
   "metadata": {},
   "outputs": [
    {
     "data": {
      "text/latex": [
       "$\\displaystyle \\frac{13 x^{12}}{2}$"
      ],
      "text/plain": [
       "13*x**12/2"
      ]
     },
     "execution_count": 18,
     "metadata": {},
     "output_type": "execute_result"
    }
   ],
   "source": [
    "#i)\n",
    "# Skriver om x**0.5*x**6\n",
    "x=sp.symbols(\"x\")\n",
    "f = x**13/2\n",
    "derivative_f = f.diff(x)\n",
    "derivative_f"
   ]
  },
  {
   "cell_type": "code",
   "execution_count": 96,
   "id": "c324f712-6615-4cd9-b662-803b4de5f06e",
   "metadata": {},
   "outputs": [
    {
     "data": {
      "text/latex": [
       "$\\displaystyle 3 x^{2} + 1$"
      ],
      "text/plain": [
       "3*x**2 + 1"
      ]
     },
     "execution_count": 96,
     "metadata": {},
     "output_type": "execute_result"
    }
   ],
   "source": [
    "#j)\n",
    "x=sp.symbols(\"x\")\n",
    "f = x*(x**2+1)\n",
    "derivative_f = f.diff(x)\n",
    "derivative_f"
   ]
  },
  {
   "cell_type": "code",
   "execution_count": 101,
   "id": "4ee9c62d-369e-45a7-bf89-cd8d1354d2ad",
   "metadata": {},
   "outputs": [
    {
     "data": {
      "text/latex": [
       "$\\displaystyle - \\frac{3 x^{2} \\left(x^{2} + 4\\right)}{\\left(x^{3} - 1\\right)^{2}} + \\frac{2 x}{x^{3} - 1}$"
      ],
      "text/plain": [
       "-3*x**2*(x**2 + 4)/(x**3 - 1)**2 + 2*x/(x**3 - 1)"
      ]
     },
     "execution_count": 101,
     "metadata": {},
     "output_type": "execute_result"
    }
   ],
   "source": [
    "#k)\n",
    "x=sp.symbols(\"x\")\n",
    "f = (x**2+4)/(x**3-1)\n",
    "derivative_f = f.diff(x)\n",
    "derivative_f"
   ]
  },
  {
   "cell_type": "code",
   "execution_count": 19,
   "id": "40ad29cc-b544-4048-b49a-04baa644f319",
   "metadata": {},
   "outputs": [
    {
     "data": {
      "text/latex": [
       "$\\displaystyle \\frac{x^{2} \\left(- 2 x - 2\\right)}{\\left(x^{2} + 2 x\\right)^{2}} + \\frac{2 x}{x^{2} + 2 x}$"
      ],
      "text/plain": [
       "x**2*(-2*x - 2)/(x**2 + 2*x)**2 + 2*x/(x**2 + 2*x)"
      ]
     },
     "execution_count": 19,
     "metadata": {},
     "output_type": "execute_result"
    }
   ],
   "source": [
    "#l) \n",
    "x=sp.symbols(\"x\")\n",
    "f = (x**2)/(x**2+2*x)\n",
    "derivative_f = f.diff(x)\n",
    "derivative_f"
   ]
  },
  {
   "cell_type": "code",
   "execution_count": 110,
   "id": "21fa3944-31bb-4e82-91de-b7af87ff030d",
   "metadata": {},
   "outputs": [
    {
     "data": {
      "text/latex": [
       "$\\displaystyle \\frac{2 x + 4}{x - 2} - \\frac{x^{2} + 4 x + 2}{\\left(x - 2\\right)^{2}}$"
      ],
      "text/plain": [
       "(2*x + 4)/(x - 2) - (x**2 + 4*x + 2)/(x - 2)**2"
      ]
     },
     "execution_count": 110,
     "metadata": {},
     "output_type": "execute_result"
    }
   ],
   "source": [
    "#m)\n",
    "x=sp.symbols(\"x\")\n",
    "f = (x**2+4*x+2)/(x-2)\n",
    "derivative_f = f.diff(x)\n",
    "derivative_f"
   ]
  },
  {
   "cell_type": "markdown",
   "id": "ce9c2607-f71a-4409-aaab-07f75bb2e20b",
   "metadata": {},
   "source": [
    "### Oppgave 2"
   ]
  },
  {
   "cell_type": "code",
   "execution_count": 112,
   "id": "8a904b26-a32e-4abe-9d11-f2f337c5f8a2",
   "metadata": {},
   "outputs": [
    {
     "data": {
      "text/latex": [
       "$\\displaystyle - \\frac{2 x \\left(x^{3} - 2 x\\right)}{\\left(x^{2} - 1\\right)^{2}} + \\frac{3 x^{2} - 2}{x^{2} - 1}$"
      ],
      "text/plain": [
       "-2*x*(x**3 - 2*x)/(x**2 - 1)**2 + (3*x**2 - 2)/(x**2 - 1)"
      ]
     },
     "execution_count": 112,
     "metadata": {},
     "output_type": "execute_result"
    }
   ],
   "source": [
    "#a)\n",
    "x=sp.symbols(\"x\")\n",
    "f = (x**3-2*x)/(x**2-1)\n",
    "derivative_f = f.diff(x)\n",
    "derivative_f"
   ]
  },
  {
   "cell_type": "code",
   "execution_count": 12,
   "id": "118ae125-a79a-435b-93a8-da1b39ef911d",
   "metadata": {},
   "outputs": [
    {
     "data": {
      "text/latex": [
       "$\\displaystyle 4 x^{3}$"
      ],
      "text/plain": [
       "4*x**3"
      ]
     },
     "execution_count": 12,
     "metadata": {},
     "output_type": "execute_result"
    }
   ],
   "source": [
    "#b)\n",
    "# omgjør (x**2+1)(x**2-1)\n",
    "x=sp.symbols(\"x\")\n",
    "f = x**4-1\n",
    "derivative_f = f.diff(x)\n",
    "derivative_f"
   ]
  },
  {
   "cell_type": "code",
   "execution_count": 13,
   "id": "aacc9597-dc11-4591-80fe-241b4ed91ae4",
   "metadata": {},
   "outputs": [
    {
     "data": {
      "text/latex": [
       "$\\displaystyle - \\frac{3 x^{2} \\left(3 x - 4\\right)}{\\left(x^{3} + 7\\right)^{2}} + \\frac{3}{x^{3} + 7}$"
      ],
      "text/plain": [
       "-3*x**2*(3*x - 4)/(x**3 + 7)**2 + 3/(x**3 + 7)"
      ]
     },
     "execution_count": 13,
     "metadata": {},
     "output_type": "execute_result"
    }
   ],
   "source": [
    "#c)\n",
    "x=sp.symbols(\"x\")\n",
    "f = (3*x-4)/(x**3+7)\n",
    "derivative_f = f.diff(x)\n",
    "derivative_f"
   ]
  },
  {
   "cell_type": "markdown",
   "id": "90ad82ef-5e8f-44eb-9497-59671c1bcdeb",
   "metadata": {},
   "source": [
    "## 21 - Kjerneregelen"
   ]
  },
  {
   "cell_type": "markdown",
   "id": "b8f95af6-12f3-4260-8574-28c5587561da",
   "metadata": {},
   "source": [
    "### Oppgave 1"
   ]
  },
  {
   "cell_type": "code",
   "execution_count": 15,
   "id": "c17a2cec-86d2-4f98-b875-49f89e2fe236",
   "metadata": {},
   "outputs": [
    {
     "data": {
      "text/latex": [
       "$\\displaystyle \\left(15 x^{2} + 30\\right) \\left(x^{3} + 6 x\\right)^{4}$"
      ],
      "text/plain": [
       "(15*x**2 + 30)*(x**3 + 6*x)**4"
      ]
     },
     "execution_count": 15,
     "metadata": {},
     "output_type": "execute_result"
    }
   ],
   "source": [
    "#a)\n",
    "x=sp.symbols(\"x\")\n",
    "f = (x**3+6*x)**5\n",
    "derivative_f = f.diff(x)\n",
    "derivative_f"
   ]
  },
  {
   "cell_type": "code",
   "execution_count": 21,
   "id": "02c4d01f-a542-4282-abe0-0d92193f0411",
   "metadata": {},
   "outputs": [
    {
     "data": {
      "text/latex": [
       "$\\displaystyle \\frac{2.0 x}{\\left(2 x^{2} + 5\\right)^{0.5}}$"
      ],
      "text/plain": [
       "2.0*x*(2*x**2 + 5)**(-0.5)"
      ]
     },
     "execution_count": 21,
     "metadata": {},
     "output_type": "execute_result"
    }
   ],
   "source": [
    "#b)\n",
    "x=sp.symbols(\"x\")\n",
    "f = (2*x**2+5)**0.5\n",
    "derivative_f = f.diff(x)\n",
    "derivative_f"
   ]
  },
  {
   "cell_type": "code",
   "execution_count": 26,
   "id": "a0991a19-60a9-44d9-8d96-17c6b0758096",
   "metadata": {},
   "outputs": [
    {
     "data": {
      "text/latex": [
       "$\\displaystyle - \\frac{128 x^{5}}{\\left(x^{2} + 3\\right)^{5}} + \\frac{64 x^{3}}{\\left(x^{2} + 3\\right)^{4}}$"
      ],
      "text/plain": [
       "-128*x**5/(x**2 + 3)**5 + 64*x**3/(x**2 + 3)**4"
      ]
     },
     "execution_count": 26,
     "metadata": {},
     "output_type": "execute_result"
    }
   ],
   "source": [
    "#c)\n",
    "x=sp.symbols(\"x\")\n",
    "f = (2*x/(x**2+3))**4\n",
    "derivative_f = f.diff(x)\n",
    "derivative_f"
   ]
  },
  {
   "cell_type": "code",
   "execution_count": 33,
   "id": "f288d84e-34d5-485c-bdab-77e86e71d815",
   "metadata": {},
   "outputs": [
    {
     "data": {
      "text/latex": [
       "$\\displaystyle 12.0 x^{3} \\left(2 x^{4} + 9\\right)^{0.5}$"
      ],
      "text/plain": [
       "12.0*x**3*(2*x**4 + 9)**0.5"
      ]
     },
     "execution_count": 33,
     "metadata": {},
     "output_type": "execute_result"
    }
   ],
   "source": [
    "#d)\n",
    "x=sp.symbols(\"x\")\n",
    "f = (2*x**4+9)**1.5\n",
    "derivative_f = f.diff(x)\n",
    "derivative_f"
   ]
  },
  {
   "cell_type": "code",
   "execution_count": 23,
   "id": "89861d67-4473-4f35-9dc7-21804ada4911",
   "metadata": {},
   "outputs": [
    {
     "data": {
      "text/latex": [
       "$\\displaystyle - \\frac{1.0 x}{\\left(x^{2} + 1\\right)^{1.5}}$"
      ],
      "text/plain": [
       "-1.0*x*(x**2 + 1)**(-1.5)"
      ]
     },
     "execution_count": 23,
     "metadata": {},
     "output_type": "execute_result"
    }
   ],
   "source": [
    "#e)\n",
    "x=sp.symbols(\"x\")\n",
    "f = 1/((1+x**2)**0.5)\n",
    "derivative_f = f.diff(x)\n",
    "derivative_f"
   ]
  },
  {
   "cell_type": "code",
   "execution_count": 38,
   "id": "c2b197ae-2c09-4afc-bd39-5bebd1f905b9",
   "metadata": {},
   "outputs": [
    {
     "data": {
      "text/latex": [
       "$\\displaystyle x^{2} \\left(6 x + 6\\right) \\left(x^{2} + 2 x\\right)^{2} + 2 x \\left(x^{2} + 2 x\\right)^{3}$"
      ],
      "text/plain": [
       "x**2*(6*x + 6)*(x**2 + 2*x)**2 + 2*x*(x**2 + 2*x)**3"
      ]
     },
     "execution_count": 38,
     "metadata": {},
     "output_type": "execute_result"
    }
   ],
   "source": [
    "#f)\n",
    "x=sp.symbols(\"x\")\n",
    "f = x**2*(x**2+2*x)**3\n",
    "derivative_f = f.diff(x)\n",
    "derivative_f"
   ]
  },
  {
   "cell_type": "code",
   "execution_count": 27,
   "id": "a9f3446f-d50a-488b-baff-49528476188e",
   "metadata": {},
   "outputs": [
    {
     "data": {
      "text/latex": [
       "$\\displaystyle \\frac{x^{2} \\left(1.0 x - 1.0\\right)}{\\left(x^{2} - 2 x\\right)^{0.5}} + 2 x \\left(x^{2} - 2 x\\right)^{0.5}$"
      ],
      "text/plain": [
       "x**2*(1.0*x - 1.0)*(x**2 - 2*x)**(-0.5) + 2*x*(x**2 - 2*x)**0.5"
      ]
     },
     "execution_count": 27,
     "metadata": {},
     "output_type": "execute_result"
    }
   ],
   "source": [
    "#g)\n",
    "x=sp.symbols(\"x\")\n",
    "f = (x**2)*(x**2-2*x)**0.5\n",
    "derivative_f = f.diff(x)\n",
    "derivative_f"
   ]
  },
  {
   "cell_type": "code",
   "execution_count": 41,
   "id": "6d4b2a7a-762c-4bfb-a33f-a141987e3a22",
   "metadata": {},
   "outputs": [
    {
     "data": {
      "text/latex": [
       "$\\displaystyle \\frac{x^{2} \\left(- 6 x - 3\\right)}{\\left(x^{2} + x\\right)^{4}} + \\frac{2 x}{\\left(x^{2} + x\\right)^{3}}$"
      ],
      "text/plain": [
       "x**2*(-6*x - 3)/(x**2 + x)**4 + 2*x/(x**2 + x)**3"
      ]
     },
     "execution_count": 41,
     "metadata": {},
     "output_type": "execute_result"
    }
   ],
   "source": [
    "#h)\n",
    "x=sp.symbols(\"x\")\n",
    "f = x**2/(x**2+x)**3\n",
    "derivative_f = f.diff(x)\n",
    "derivative_f"
   ]
  },
  {
   "cell_type": "code",
   "execution_count": 42,
   "id": "8ea3e47e-a1a0-4a2d-bb75-c7601bcb8119",
   "metadata": {},
   "outputs": [
    {
     "data": {
      "text/latex": [
       "$\\displaystyle 9 x^{2} \\left(x^{2} + 1\\right)^{2} \\left(x^{3} + 1\\right)^{2} + 4 x \\left(x^{2} + 1\\right) \\left(x^{3} + 1\\right)^{3}$"
      ],
      "text/plain": [
       "9*x**2*(x**2 + 1)**2*(x**3 + 1)**2 + 4*x*(x**2 + 1)*(x**3 + 1)**3"
      ]
     },
     "execution_count": 42,
     "metadata": {},
     "output_type": "execute_result"
    }
   ],
   "source": [
    "#i)\n",
    "x=sp.symbols(\"x\")\n",
    "f = (x**2+1)**2*(x**3+1)**3\n",
    "derivative_f = f.diff(x)\n",
    "derivative_f"
   ]
  },
  {
   "cell_type": "markdown",
   "id": "054ed8e5-749d-4c53-a4fc-bb231d20738d",
   "metadata": {},
   "source": [
    "### Oppgave 2"
   ]
  },
  {
   "cell_type": "code",
   "execution_count": 30,
   "id": "c9f71fad-674e-47a3-b827-7ca10224eb7e",
   "metadata": {},
   "outputs": [
    {
     "data": {
      "text/latex": [
       "$\\displaystyle \\left(12 x + 4\\right) \\left(3 x^{2} + 2 x\\right)$"
      ],
      "text/plain": [
       "(12*x + 4)*(3*x**2 + 2*x)"
      ]
     },
     "execution_count": 30,
     "metadata": {},
     "output_type": "execute_result"
    }
   ],
   "source": [
    "#a) gjør om ((3*x**2+2*x)**4)**0.5\n",
    "x=sp.symbols(\"x\")\n",
    "f = (3*x**2+2*x)**2\n",
    "derivative_f = f.diff(x)\n",
    "derivative_f"
   ]
  },
  {
   "cell_type": "code",
   "execution_count": 48,
   "id": "9dad5d79-46d1-4071-915d-9946c3daa1e7",
   "metadata": {},
   "outputs": [
    {
     "data": {
      "text/latex": [
       "$\\displaystyle 15 x^{2} \\left(x^{2} + 3\\right)^{4} \\left(x^{3} + 3\\right)^{4} + 8 x \\left(x^{2} + 3\\right)^{3} \\left(x^{3} + 3\\right)^{5}$"
      ],
      "text/plain": [
       "15*x**2*(x**2 + 3)**4*(x**3 + 3)**4 + 8*x*(x**2 + 3)**3*(x**3 + 3)**5"
      ]
     },
     "execution_count": 48,
     "metadata": {},
     "output_type": "execute_result"
    }
   ],
   "source": [
    "#b)\n",
    "x=sp.symbols(\"x\")\n",
    "f = (x**3+3)**5*(x**2+3)**4\n",
    "derivative_f = f.diff(x)\n",
    "derivative_f"
   ]
  },
  {
   "cell_type": "code",
   "execution_count": 49,
   "id": "75f247ee-50d3-4191-a3c9-0048d5f944f3",
   "metadata": {},
   "outputs": [
    {
     "data": {
      "text/latex": [
       "$\\displaystyle \\frac{1.0 x^{3}}{\\left(x^{2} + 1\\right)^{0.5}} + 2 x \\left(x^{2} + 1\\right)^{0.5}$"
      ],
      "text/plain": [
       "1.0*x**3*(x**2 + 1)**(-0.5) + 2*x*(x**2 + 1)**0.5"
      ]
     },
     "execution_count": 49,
     "metadata": {},
     "output_type": "execute_result"
    }
   ],
   "source": [
    "#c)\n",
    "x=sp.symbols(\"x\")\n",
    "f = (x**2+1)**0.5*x**2\n",
    "derivative_f = f.diff(x)\n",
    "derivative_f"
   ]
  },
  {
   "cell_type": "code",
   "execution_count": 31,
   "id": "bd21ae68-5ec8-40e6-b35b-30d5ecd8efea",
   "metadata": {},
   "outputs": [
    {
     "data": {
      "text/latex": [
       "$\\displaystyle \\frac{\\left(18 x + 6\\right) \\left(3 x^{2} + 2 x\\right)^{2}}{x^{2}} - \\frac{2 \\left(3 x^{2} + 2 x\\right)^{3}}{x^{3}}$"
      ],
      "text/plain": [
       "(18*x + 6)*(3*x**2 + 2*x)**2/x**2 - 2*(3*x**2 + 2*x)**3/x**3"
      ]
     },
     "execution_count": 31,
     "metadata": {},
     "output_type": "execute_result"
    }
   ],
   "source": [
    "#d)\n",
    "x=sp.symbols(\"x\")\n",
    "f = ((2*x+3*x**2)**3)/x**2\n",
    "derivative_f = f.diff(x)\n",
    "derivative_f"
   ]
  },
  {
   "cell_type": "code",
   "execution_count": 43,
   "id": "2c2d7edc-8995-4127-9adf-7fceac3a40d3",
   "metadata": {},
   "outputs": [
    {
     "data": {
      "text/latex": [
       "$\\displaystyle \\frac{4 x^{3}}{3}$"
      ],
      "text/plain": [
       "4*x**3/3"
      ]
     },
     "execution_count": 43,
     "metadata": {},
     "output_type": "execute_result"
    }
   ],
   "source": [
    "#e)\n",
    "x=sp.symbols(\"x\")\n",
    "f = (x**4-5)**1/3\n",
    "derivative_f = f.diff(x)\n",
    "derivative_f"
   ]
  },
  {
   "cell_type": "code",
   "execution_count": 10,
   "id": "dce01cff-41f5-4c99-8070-cb189dc0a2e6",
   "metadata": {},
   "outputs": [
    {
     "data": {
      "text/latex": [
       "$\\displaystyle - \\frac{2.0 x^{6}}{\\left(x^{4} - 1\\right)^{1.5}} + \\frac{3 x^{2}}{\\left(x^{4} - 1\\right)^{0.5}}$"
      ],
      "text/plain": [
       "-2.0*x**6*(x**4 - 1)**(-1.5) + 3*x**2*(x**4 - 1)**(-0.5)"
      ]
     },
     "execution_count": 10,
     "metadata": {},
     "output_type": "execute_result"
    }
   ],
   "source": [
    "#f)\n",
    "x = sp.symbols(\"x\")\n",
    "f = x**3/(x**4-1)**0.5\n",
    "derivative_f = f.diff(x)\n",
    "derivative_f"
   ]
  },
  {
   "cell_type": "markdown",
   "id": "fb1c3779-56fd-4584-b3d8-d3f86d8ac2bc",
   "metadata": {},
   "source": [
    "## 22 - Derivasjon av logaritme- og eksponentialfunksjoner"
   ]
  },
  {
   "cell_type": "markdown",
   "id": "2c34df21-af9c-4a42-8737-36763b4912ff",
   "metadata": {},
   "source": [
    "### Oppgave 1"
   ]
  },
  {
   "cell_type": "code",
   "execution_count": 45,
   "id": "11cd815c-715f-49cd-923e-77707b018805",
   "metadata": {},
   "outputs": [
    {
     "data": {
      "text/latex": [
       "$\\displaystyle \\frac{1}{x}$"
      ],
      "text/plain": [
       "1/x"
      ]
     },
     "execution_count": 45,
     "metadata": {},
     "output_type": "execute_result"
    }
   ],
   "source": [
    "#a)\n",
    "x = sp.symbols(\"x\")\n",
    "f = sp.log(5*x)\n",
    "derivative_f = f.diff(x)\n",
    "derivative_f"
   ]
  },
  {
   "cell_type": "code",
   "execution_count": 5,
   "id": "9cd061c5-0928-4768-9f8d-4cefd18e345f",
   "metadata": {},
   "outputs": [
    {
     "data": {
      "text/latex": [
       "$\\displaystyle - 2 e^{- 2 x}$"
      ],
      "text/plain": [
       "-2*exp(-2*x)"
      ]
     },
     "execution_count": 5,
     "metadata": {},
     "output_type": "execute_result"
    }
   ],
   "source": [
    "#b) \n",
    "x=sp.symbols(\"x\")\n",
    "f = exp(-2*x)\n",
    "derivative_f = f.diff(x)\n",
    "derivative_f"
   ]
  },
  {
   "cell_type": "code",
   "execution_count": 7,
   "id": "6a05e0dc-0098-4db1-bff7-29f59435cebe",
   "metadata": {},
   "outputs": [
    {
     "data": {
      "text/latex": [
       "$\\displaystyle \\frac{1}{x}$"
      ],
      "text/plain": [
       "1/x"
      ]
     },
     "execution_count": 7,
     "metadata": {},
     "output_type": "execute_result"
    }
   ],
   "source": [
    "#c)\n",
    "x=sp.symbols(\"x\")\n",
    "f = sp.log(12*x)-3\n",
    "derivative_f = f.diff(x)\n",
    "derivative_f"
   ]
  },
  {
   "cell_type": "code",
   "execution_count": 9,
   "id": "edb34430-43c3-4d03-976f-2c9775e38c2f",
   "metadata": {},
   "outputs": [
    {
     "data": {
      "text/latex": [
       "$\\displaystyle 2^{x} \\log{\\left(2 \\right)}$"
      ],
      "text/plain": [
       "2**x*log(2)"
      ]
     },
     "execution_count": 9,
     "metadata": {},
     "output_type": "execute_result"
    }
   ],
   "source": [
    "#d) \n",
    "x=sp.symbols(\"x\")\n",
    "f = 2**x\n",
    "derivative_f = f.diff(x)\n",
    "derivative_f"
   ]
  },
  {
   "cell_type": "code",
   "execution_count": 12,
   "id": "96703eab-5cdc-409c-8130-837056d35829",
   "metadata": {},
   "outputs": [
    {
     "data": {
      "text/latex": [
       "$\\displaystyle 3 e^{3 x + 5}$"
      ],
      "text/plain": [
       "3*exp(3*x + 5)"
      ]
     },
     "execution_count": 12,
     "metadata": {},
     "output_type": "execute_result"
    }
   ],
   "source": [
    "#e) \n",
    "x=sp.symbols(\"x\")\n",
    "f = exp(3*x+5)\n",
    "derivative_f = f.diff(x)\n",
    "derivative_f"
   ]
  },
  {
   "cell_type": "code",
   "execution_count": 13,
   "id": "b8fdb44b-718a-4a1b-b1d9-6464bf817dd3",
   "metadata": {},
   "outputs": [
    {
     "data": {
      "text/latex": [
       "$\\displaystyle \\frac{5 x^{4}}{x^{5} + 1}$"
      ],
      "text/plain": [
       "5*x**4/(x**5 + 1)"
      ]
     },
     "execution_count": 13,
     "metadata": {},
     "output_type": "execute_result"
    }
   ],
   "source": [
    "#f) \n",
    "x=sp.symbols(\"x\")\n",
    "f = sp.log(x**5+1)\n",
    "derivative_f = f.diff(x)\n",
    "derivative_f"
   ]
  },
  {
   "cell_type": "code",
   "execution_count": 16,
   "id": "9e411c44-6820-4e4f-a415-b0d511820bd5",
   "metadata": {},
   "outputs": [
    {
     "data": {
      "text/latex": [
       "$\\displaystyle \\left(8 x + 8\\right) e^{4 x^{2} + 8 x}$"
      ],
      "text/plain": [
       "(8*x + 8)*exp(4*x**2 + 8*x)"
      ]
     },
     "execution_count": 16,
     "metadata": {},
     "output_type": "execute_result"
    }
   ],
   "source": [
    "#g) \n",
    "x=sp.symbols(\"x\")\n",
    "f = exp(4*x**2+8*x)\n",
    "derivative_f = f.diff(x)\n",
    "derivative_f"
   ]
  },
  {
   "cell_type": "code",
   "execution_count": 17,
   "id": "01656f3c-5400-4308-8856-70f68ea23ecd",
   "metadata": {},
   "outputs": [
    {
     "data": {
      "text/latex": [
       "$\\displaystyle - \\frac{1}{x}$"
      ],
      "text/plain": [
       "-1/x"
      ]
     },
     "execution_count": 17,
     "metadata": {},
     "output_type": "execute_result"
    }
   ],
   "source": [
    "#h) \n",
    "x=sp.symbols(\"x\")\n",
    "f = sp.log(1/x)\n",
    "derivative_f = f.diff(x)\n",
    "derivative_f"
   ]
  },
  {
   "cell_type": "code",
   "execution_count": 18,
   "id": "e7598736-2714-46f5-9a95-a89cff0b43c0",
   "metadata": {},
   "outputs": [
    {
     "data": {
      "text/latex": [
       "$\\displaystyle 12 e^{4 x} + \\frac{6}{x}$"
      ],
      "text/plain": [
       "12*exp(4*x) + 6/x"
      ]
     },
     "execution_count": 18,
     "metadata": {},
     "output_type": "execute_result"
    }
   ],
   "source": [
    "#i) \n",
    "x=sp.symbols(\"x\")\n",
    "f = 6*(sp.log(x))+ 3*(exp(4*x))\n",
    "derivative_f = f.diff(x)\n",
    "derivative_f"
   ]
  },
  {
   "cell_type": "code",
   "execution_count": 19,
   "id": "6c529b23-4264-47c5-b57a-8ce9fb91b3f4",
   "metadata": {},
   "outputs": [
    {
     "data": {
      "text/latex": [
       "$\\displaystyle - x e^{- x} + e^{- x}$"
      ],
      "text/plain": [
       "-x*exp(-x) + exp(-x)"
      ]
     },
     "execution_count": 19,
     "metadata": {},
     "output_type": "execute_result"
    }
   ],
   "source": [
    "#j) \n",
    "x=sp.symbols(\"x\")\n",
    "f = x*(exp(-x))\n",
    "derivative_f = f.diff(x)\n",
    "derivative_f"
   ]
  },
  {
   "cell_type": "code",
   "execution_count": 20,
   "id": "e527ab20-c043-47d1-bfea-6b9423bd8681",
   "metadata": {},
   "outputs": [
    {
     "data": {
      "text/latex": [
       "$\\displaystyle \\frac{2 x^{3}}{x^{2} + 2} + 2 x \\log{\\left(x^{2} + 2 \\right)}$"
      ],
      "text/plain": [
       "2*x**3/(x**2 + 2) + 2*x*log(x**2 + 2)"
      ]
     },
     "execution_count": 20,
     "metadata": {},
     "output_type": "execute_result"
    }
   ],
   "source": [
    "#k)\n",
    "x=sp.symbols(\"x\")\n",
    "f = (sp.log(x**2+2))*x**2\n",
    "derivative_f = f.diff(x)\n",
    "derivative_f"
   ]
  },
  {
   "cell_type": "markdown",
   "id": "0d2d3ce5-f4c2-47a1-a995-c6f9606ebbbc",
   "metadata": {},
   "source": [
    "### Oppgave 2"
   ]
  },
  {
   "cell_type": "code",
   "execution_count": 21,
   "id": "3e70878d-d16a-40f1-82cc-1d202edc575f",
   "metadata": {},
   "outputs": [
    {
     "data": {
      "text/latex": [
       "$\\displaystyle 2 x^{3} e^{2 x} + 3 x^{2} e^{2 x}$"
      ],
      "text/plain": [
       "2*x**3*exp(2*x) + 3*x**2*exp(2*x)"
      ]
     },
     "execution_count": 21,
     "metadata": {},
     "output_type": "execute_result"
    }
   ],
   "source": [
    "#a) \n",
    "x=sp.symbols(\"x\")\n",
    "f = x**3*(exp(2*x))\n",
    "derivative_f = f.diff(x)\n",
    "derivative_f"
   ]
  },
  {
   "cell_type": "code",
   "execution_count": 22,
   "id": "37fce26f-c12b-4adf-8c4f-1f891a4074c1",
   "metadata": {},
   "outputs": [
    {
     "data": {
      "text/latex": [
       "$\\displaystyle \\frac{\\left(x^{2} + 1\\right) \\left(- \\frac{2 x \\left(x^{2} - 1\\right)}{\\left(x^{2} + 1\\right)^{2}} + \\frac{2 x}{x^{2} + 1}\\right)}{x^{2} - 1}$"
      ],
      "text/plain": [
       "(x**2 + 1)*(-2*x*(x**2 - 1)/(x**2 + 1)**2 + 2*x/(x**2 + 1))/(x**2 - 1)"
      ]
     },
     "execution_count": 22,
     "metadata": {},
     "output_type": "execute_result"
    }
   ],
   "source": [
    "#b) \n",
    "x=sp.symbols(\"x\")\n",
    "f = sp.log((x**2-1)/(x**2+1))\n",
    "derivative_f = f.diff(x)\n",
    "derivative_f"
   ]
  },
  {
   "cell_type": "code",
   "execution_count": 24,
   "id": "8282e07b-3d6c-46e9-ae3e-329df43cc87b",
   "metadata": {},
   "outputs": [
    {
     "data": {
      "text/latex": [
       "$\\displaystyle \\frac{2 x^{3}}{x^{2} + 2} + 2 x \\log{\\left(x^{2} + 2 \\right)}$"
      ],
      "text/plain": [
       "2*x**3/(x**2 + 2) + 2*x*log(x**2 + 2)"
      ]
     },
     "execution_count": 24,
     "metadata": {},
     "output_type": "execute_result"
    }
   ],
   "source": [
    "#c) \n",
    "x=sp.symbols(\"x\")\n",
    "f = (sp.log(x**2+2))*x**2\n",
    "derivative_f = f.diff(x)\n",
    "derivative_f"
   ]
  },
  {
   "cell_type": "code",
   "execution_count": 28,
   "id": "a7087a97-a825-4199-bf66-e1a3d2736f84",
   "metadata": {},
   "outputs": [
    {
     "data": {
      "text/latex": [
       "$\\displaystyle - \\frac{2 x e^{- x}}{\\left(x^{2} + 1\\right)^{2}} - \\frac{e^{- x}}{x^{2} + 1}$"
      ],
      "text/plain": [
       "-2*x*exp(-x)/(x**2 + 1)**2 - exp(-x)/(x**2 + 1)"
      ]
     },
     "execution_count": 28,
     "metadata": {},
     "output_type": "execute_result"
    }
   ],
   "source": [
    "#d) \n",
    "x=sp.symbols(\"x\")\n",
    "f = exp(-x)/(x**2+1)\n",
    "derivative_f = f.diff(x)\n",
    "derivative_f"
   ]
  }
 ],
 "metadata": {
  "kernelspec": {
   "display_name": "Python 3 (ipykernel)",
   "language": "python",
   "name": "python3"
  },
  "language_info": {
   "codemirror_mode": {
    "name": "ipython",
    "version": 3
   },
   "file_extension": ".py",
   "mimetype": "text/x-python",
   "name": "python",
   "nbconvert_exporter": "python",
   "pygments_lexer": "ipython3",
   "version": "3.9.5"
  },
  "toc-showcode": true,
  "toc-showmarkdowntxt": false
 },
 "nbformat": 4,
 "nbformat_minor": 5
}
